{
 "cells": [
  {
   "cell_type": "markdown",
   "id": "84d7336f",
   "metadata": {},
   "source": [
    "Theoretical Assignment:"
   ]
  },
  {
   "cell_type": "markdown",
   "id": "c32295ef",
   "metadata": {},
   "source": [
    "Q.1"
   ]
  },
  {
   "cell_type": "markdown",
   "id": "de0d2cb1",
   "metadata": {},
   "source": [
    "Essay: Importance of Data Cleaning in Data Science\n",
    "Introduction\n",
    "Data cleaning, also known as data cleansing or data preprocessing, is a critical step in the data science workflow. It involves detecting and correcting (or removing) corrupt, inaccurate, incomplete, or irrelevant parts of the data. Clean data leads to better model performance, accurate insights, and trustworthy results.\n",
    "\n",
    "Why Data Cleaning Is Important\n",
    "\n",
    "Improves Data Quality: Raw data often contains missing values, outliers, or errors. Cleaning ensures the data is consistent and accurate.\n",
    "\n",
    "Enhances Model Performance: Machine learning algorithms rely on high-quality data. Dirty data can reduce model accuracy or introduce bias.\n",
    "\n",
    "Reduces Noise and Redundancy: Cleaning eliminates unnecessary variables or duplicates, helping models focus on meaningful features.\n",
    "\n",
    "Prevents Misleading Insights: Clean data ensures correct conclusions, reducing the risk of making decisions based on flawed analysis.\n",
    "\n",
    "Saves Time in the Long Run: Investing time in data cleaning early prevents downstream issues during analysis and modeling.\n",
    "\n",
    "Common Data Cleaning Tasks\n",
    "\n",
    "Handling missing values (e.g., imputation, deletion)\n",
    "\n",
    "Removing duplicates\n",
    "\n",
    "Correcting inconsistent formats\n",
    "\n",
    "Filtering out outliers\n",
    "\n",
    "Normalizing or standardizing data\n",
    "\n",
    "Conclusion\n",
    "Data cleaning is often seen as tedious, but it is one of the most essential tasks in data science. Without it, even the most advanced algorithms or sophisticated models will not yield reliable results. Clean data is the foundation of good data science."
   ]
  },
  {
   "cell_type": "markdown",
   "id": "6dc75404",
   "metadata": {},
   "source": [
    "Q.2"
   ]
  },
  {
   "cell_type": "markdown",
   "id": "ca593345",
   "metadata": {},
   "source": [
    "Presentation: Data Visualization Techniques\n",
    "Slide 1: Title Slide\n",
    "\n",
    "Title: Data Visualization Techniques\n",
    "\n",
    "Subtitle: Turning Data Into Insight\n",
    "\n",
    "Presenter’s Name & Date\n",
    "\n",
    "Slide 2: Introduction\n",
    "\n",
    "Definition of Data Visualization\n",
    "\n",
    "Importance: Understand patterns, trends, and outliers\n",
    "\n",
    "Slide 3: Types of Data Visualization\n",
    "\n",
    "Categorical: Bar charts, pie charts\n",
    "\n",
    "Quantitative: Histograms, line graphs\n",
    "\n",
    "Relational: Scatter plots, bubble charts\n",
    "\n",
    "Geographical: Maps, choropleths\n",
    "\n",
    "Temporal: Time series plots\n",
    "\n",
    "Slide 4: Tools for Data Visualization\n",
    "\n",
    "Python Libraries: Matplotlib, Seaborn, Plotly\n",
    "\n",
    "BI Tools: Tableau, Power BI\n",
    "\n",
    "Web-Based: D3.js, Google Charts\n",
    "\n",
    "Slide 5: Best Practices\n",
    "\n",
    "Use the right chart for the data\n",
    "\n",
    "Avoid clutter; keep it simple\n",
    "\n",
    "Label axes and legends clearly\n",
    "\n",
    "Use color meaningfully (not decoratively)\n",
    "\n",
    "Slide 6: Advanced Techniques\n",
    "\n",
    "Heatmaps for correlation\n",
    "\n",
    "Interactive dashboards\n",
    "\n",
    "Animated plots (e.g., with Plotly or Flourish)\n",
    "\n",
    "Slide 7: Real-World Examples\n",
    "\n",
    "COVID-19 dashboards\n",
    "\n",
    "Stock market trends\n",
    "\n",
    "Customer segmentation visuals\n",
    "\n",
    "Slide 8: Conclusion\n",
    "\n",
    "Effective visualizations = Better decisions\n",
    "\n",
    "A picture is worth a thousand data points\n",
    "\n",
    "Let me know if you want this in PowerPoint or PDF format, or need visuals included!"
   ]
  },
  {
   "cell_type": "markdown",
   "id": "98fb4714",
   "metadata": {},
   "source": [
    "Prectical Assignment:"
   ]
  },
  {
   "cell_type": "markdown",
   "id": "0a9aba96",
   "metadata": {},
   "source": [
    "Q.1"
   ]
  },
  {
   "cell_type": "code",
   "execution_count": 201,
   "id": "702a04a2",
   "metadata": {},
   "outputs": [],
   "source": [
    "import pandas as pd\n",
    "import numpy as np"
   ]
  },
  {
   "cell_type": "code",
   "execution_count": 202,
   "id": "fa2b2516",
   "metadata": {},
   "outputs": [],
   "source": [
    "df = pd.read_csv('data.csv')"
   ]
  },
  {
   "cell_type": "code",
   "execution_count": 203,
   "id": "85ee10b8",
   "metadata": {},
   "outputs": [
    {
     "data": {
      "text/html": [
       "<div>\n",
       "<style scoped>\n",
       "    .dataframe tbody tr th:only-of-type {\n",
       "        vertical-align: middle;\n",
       "    }\n",
       "\n",
       "    .dataframe tbody tr th {\n",
       "        vertical-align: top;\n",
       "    }\n",
       "\n",
       "    .dataframe thead th {\n",
       "        text-align: right;\n",
       "    }\n",
       "</style>\n",
       "<table border=\"1\" class=\"dataframe\">\n",
       "  <thead>\n",
       "    <tr style=\"text-align: right;\">\n",
       "      <th></th>\n",
       "      <th>Make</th>\n",
       "      <th>Model</th>\n",
       "      <th>Year</th>\n",
       "      <th>Engine Fuel Type</th>\n",
       "      <th>Engine HP</th>\n",
       "      <th>Engine Cylinders</th>\n",
       "      <th>Transmission Type</th>\n",
       "      <th>Driven_Wheels</th>\n",
       "      <th>Number of Doors</th>\n",
       "      <th>Market Category</th>\n",
       "      <th>Vehicle Size</th>\n",
       "      <th>Vehicle Style</th>\n",
       "      <th>highway MPG</th>\n",
       "      <th>city mpg</th>\n",
       "      <th>Popularity</th>\n",
       "      <th>MSRP</th>\n",
       "    </tr>\n",
       "  </thead>\n",
       "  <tbody>\n",
       "    <tr>\n",
       "      <th>0</th>\n",
       "      <td>BMW</td>\n",
       "      <td>1 Series M</td>\n",
       "      <td>2011</td>\n",
       "      <td>premium unleaded (required)</td>\n",
       "      <td>335.0</td>\n",
       "      <td>6.0</td>\n",
       "      <td>MANUAL</td>\n",
       "      <td>rear wheel drive</td>\n",
       "      <td>2.0</td>\n",
       "      <td>Factory Tuner,Luxury,High-Performance</td>\n",
       "      <td>Compact</td>\n",
       "      <td>Coupe</td>\n",
       "      <td>26</td>\n",
       "      <td>19</td>\n",
       "      <td>3916</td>\n",
       "      <td>46135</td>\n",
       "    </tr>\n",
       "    <tr>\n",
       "      <th>1</th>\n",
       "      <td>BMW</td>\n",
       "      <td>1 Series</td>\n",
       "      <td>2011</td>\n",
       "      <td>premium unleaded (required)</td>\n",
       "      <td>300.0</td>\n",
       "      <td>6.0</td>\n",
       "      <td>MANUAL</td>\n",
       "      <td>rear wheel drive</td>\n",
       "      <td>2.0</td>\n",
       "      <td>Luxury,Performance</td>\n",
       "      <td>Compact</td>\n",
       "      <td>Convertible</td>\n",
       "      <td>28</td>\n",
       "      <td>19</td>\n",
       "      <td>3916</td>\n",
       "      <td>40650</td>\n",
       "    </tr>\n",
       "    <tr>\n",
       "      <th>2</th>\n",
       "      <td>BMW</td>\n",
       "      <td>1 Series</td>\n",
       "      <td>2011</td>\n",
       "      <td>premium unleaded (required)</td>\n",
       "      <td>300.0</td>\n",
       "      <td>6.0</td>\n",
       "      <td>MANUAL</td>\n",
       "      <td>rear wheel drive</td>\n",
       "      <td>2.0</td>\n",
       "      <td>Luxury,High-Performance</td>\n",
       "      <td>Compact</td>\n",
       "      <td>Coupe</td>\n",
       "      <td>28</td>\n",
       "      <td>20</td>\n",
       "      <td>3916</td>\n",
       "      <td>36350</td>\n",
       "    </tr>\n",
       "    <tr>\n",
       "      <th>3</th>\n",
       "      <td>BMW</td>\n",
       "      <td>1 Series</td>\n",
       "      <td>2011</td>\n",
       "      <td>premium unleaded (required)</td>\n",
       "      <td>230.0</td>\n",
       "      <td>6.0</td>\n",
       "      <td>MANUAL</td>\n",
       "      <td>rear wheel drive</td>\n",
       "      <td>2.0</td>\n",
       "      <td>Luxury,Performance</td>\n",
       "      <td>Compact</td>\n",
       "      <td>Coupe</td>\n",
       "      <td>28</td>\n",
       "      <td>18</td>\n",
       "      <td>3916</td>\n",
       "      <td>29450</td>\n",
       "    </tr>\n",
       "    <tr>\n",
       "      <th>4</th>\n",
       "      <td>BMW</td>\n",
       "      <td>1 Series</td>\n",
       "      <td>2011</td>\n",
       "      <td>premium unleaded (required)</td>\n",
       "      <td>230.0</td>\n",
       "      <td>6.0</td>\n",
       "      <td>MANUAL</td>\n",
       "      <td>rear wheel drive</td>\n",
       "      <td>2.0</td>\n",
       "      <td>Luxury</td>\n",
       "      <td>Compact</td>\n",
       "      <td>Convertible</td>\n",
       "      <td>28</td>\n",
       "      <td>18</td>\n",
       "      <td>3916</td>\n",
       "      <td>34500</td>\n",
       "    </tr>\n",
       "  </tbody>\n",
       "</table>\n",
       "</div>"
      ],
      "text/plain": [
       "  Make       Model  Year             Engine Fuel Type  Engine HP  \\\n",
       "0  BMW  1 Series M  2011  premium unleaded (required)      335.0   \n",
       "1  BMW    1 Series  2011  premium unleaded (required)      300.0   \n",
       "2  BMW    1 Series  2011  premium unleaded (required)      300.0   \n",
       "3  BMW    1 Series  2011  premium unleaded (required)      230.0   \n",
       "4  BMW    1 Series  2011  premium unleaded (required)      230.0   \n",
       "\n",
       "   Engine Cylinders Transmission Type     Driven_Wheels  Number of Doors  \\\n",
       "0               6.0            MANUAL  rear wheel drive              2.0   \n",
       "1               6.0            MANUAL  rear wheel drive              2.0   \n",
       "2               6.0            MANUAL  rear wheel drive              2.0   \n",
       "3               6.0            MANUAL  rear wheel drive              2.0   \n",
       "4               6.0            MANUAL  rear wheel drive              2.0   \n",
       "\n",
       "                         Market Category Vehicle Size Vehicle Style  \\\n",
       "0  Factory Tuner,Luxury,High-Performance      Compact         Coupe   \n",
       "1                     Luxury,Performance      Compact   Convertible   \n",
       "2                Luxury,High-Performance      Compact         Coupe   \n",
       "3                     Luxury,Performance      Compact         Coupe   \n",
       "4                                 Luxury      Compact   Convertible   \n",
       "\n",
       "   highway MPG  city mpg  Popularity   MSRP  \n",
       "0           26        19        3916  46135  \n",
       "1           28        19        3916  40650  \n",
       "2           28        20        3916  36350  \n",
       "3           28        18        3916  29450  \n",
       "4           28        18        3916  34500  "
      ]
     },
     "execution_count": 203,
     "metadata": {},
     "output_type": "execute_result"
    }
   ],
   "source": [
    "df.head()"
   ]
  },
  {
   "cell_type": "code",
   "execution_count": 204,
   "id": "b8498495",
   "metadata": {},
   "outputs": [
    {
     "data": {
      "text/plain": [
       "(11914, 16)"
      ]
     },
     "execution_count": 204,
     "metadata": {},
     "output_type": "execute_result"
    }
   ],
   "source": [
    "df.shape"
   ]
  },
  {
   "cell_type": "code",
   "execution_count": 205,
   "id": "a04ddf0e",
   "metadata": {},
   "outputs": [
    {
     "name": "stdout",
     "output_type": "stream",
     "text": [
      "<class 'pandas.core.frame.DataFrame'>\n",
      "RangeIndex: 11914 entries, 0 to 11913\n",
      "Data columns (total 16 columns):\n",
      " #   Column             Non-Null Count  Dtype  \n",
      "---  ------             --------------  -----  \n",
      " 0   Make               11914 non-null  object \n",
      " 1   Model              11914 non-null  object \n",
      " 2   Year               11914 non-null  int64  \n",
      " 3   Engine Fuel Type   11911 non-null  object \n",
      " 4   Engine HP          11845 non-null  float64\n",
      " 5   Engine Cylinders   11884 non-null  float64\n",
      " 6   Transmission Type  11914 non-null  object \n",
      " 7   Driven_Wheels      11914 non-null  object \n",
      " 8   Number of Doors    11908 non-null  float64\n",
      " 9   Market Category    8172 non-null   object \n",
      " 10  Vehicle Size       11914 non-null  object \n",
      " 11  Vehicle Style      11914 non-null  object \n",
      " 12  highway MPG        11914 non-null  int64  \n",
      " 13  city mpg           11914 non-null  int64  \n",
      " 14  Popularity         11914 non-null  int64  \n",
      " 15  MSRP               11914 non-null  int64  \n",
      "dtypes: float64(3), int64(5), object(8)\n",
      "memory usage: 1.5+ MB\n"
     ]
    }
   ],
   "source": [
    "df.info()"
   ]
  },
  {
   "cell_type": "code",
   "execution_count": 206,
   "id": "49f3ac15",
   "metadata": {},
   "outputs": [
    {
     "data": {
      "text/plain": [
       "Make                    0\n",
       "Model                   0\n",
       "Year                    0\n",
       "Engine Fuel Type        3\n",
       "Engine HP              69\n",
       "Engine Cylinders       30\n",
       "Transmission Type       0\n",
       "Driven_Wheels           0\n",
       "Number of Doors         6\n",
       "Market Category      3742\n",
       "Vehicle Size            0\n",
       "Vehicle Style           0\n",
       "highway MPG             0\n",
       "city mpg                0\n",
       "Popularity              0\n",
       "MSRP                    0\n",
       "dtype: int64"
      ]
     },
     "execution_count": 206,
     "metadata": {},
     "output_type": "execute_result"
    }
   ],
   "source": [
    "df.isnull().sum()"
   ]
  },
  {
   "cell_type": "code",
   "execution_count": 207,
   "id": "81247d7e",
   "metadata": {},
   "outputs": [],
   "source": [
    "df = df.dropna(subset=['Engine Fuel Type','Number of Doors','Engine Cylinders','Engine HP'])"
   ]
  },
  {
   "cell_type": "code",
   "execution_count": 208,
   "id": "9f446c22",
   "metadata": {},
   "outputs": [
    {
     "data": {
      "text/plain": [
       "Make                    0\n",
       "Model                   0\n",
       "Year                    0\n",
       "Engine Fuel Type        0\n",
       "Engine HP               0\n",
       "Engine Cylinders        0\n",
       "Transmission Type       0\n",
       "Driven_Wheels           0\n",
       "Number of Doors         0\n",
       "Market Category      3728\n",
       "Vehicle Size            0\n",
       "Vehicle Style           0\n",
       "highway MPG             0\n",
       "city mpg                0\n",
       "Popularity              0\n",
       "MSRP                    0\n",
       "dtype: int64"
      ]
     },
     "execution_count": 208,
     "metadata": {},
     "output_type": "execute_result"
    }
   ],
   "source": [
    "df.isnull().sum()"
   ]
  },
  {
   "cell_type": "code",
   "execution_count": 209,
   "id": "81693049",
   "metadata": {},
   "outputs": [],
   "source": [
    "df['Market Category'] = df['Market Category'].fillna(df['Market Category'].mode()[0])"
   ]
  },
  {
   "cell_type": "code",
   "execution_count": 210,
   "id": "7f74ad0f",
   "metadata": {},
   "outputs": [
    {
     "data": {
      "text/plain": [
       "Make                 0\n",
       "Model                0\n",
       "Year                 0\n",
       "Engine Fuel Type     0\n",
       "Engine HP            0\n",
       "Engine Cylinders     0\n",
       "Transmission Type    0\n",
       "Driven_Wheels        0\n",
       "Number of Doors      0\n",
       "Market Category      0\n",
       "Vehicle Size         0\n",
       "Vehicle Style        0\n",
       "highway MPG          0\n",
       "city mpg             0\n",
       "Popularity           0\n",
       "MSRP                 0\n",
       "dtype: int64"
      ]
     },
     "execution_count": 210,
     "metadata": {},
     "output_type": "execute_result"
    }
   ],
   "source": [
    "df.isnull().sum()"
   ]
  },
  {
   "cell_type": "code",
   "execution_count": 211,
   "id": "82d6c408",
   "metadata": {},
   "outputs": [
    {
     "data": {
      "text/plain": [
       "np.int64(715)"
      ]
     },
     "execution_count": 211,
     "metadata": {},
     "output_type": "execute_result"
    }
   ],
   "source": [
    "df.duplicated().sum()"
   ]
  },
  {
   "cell_type": "code",
   "execution_count": 212,
   "id": "fa862b50",
   "metadata": {},
   "outputs": [],
   "source": [
    "df = df.drop_duplicates()"
   ]
  },
  {
   "cell_type": "code",
   "execution_count": 213,
   "id": "82f90c81",
   "metadata": {},
   "outputs": [
    {
     "data": {
      "text/plain": [
       "np.int64(0)"
      ]
     },
     "execution_count": 213,
     "metadata": {},
     "output_type": "execute_result"
    }
   ],
   "source": [
    "df.duplicated().sum()"
   ]
  },
  {
   "cell_type": "code",
   "execution_count": 214,
   "id": "1859b416",
   "metadata": {},
   "outputs": [
    {
     "data": {
      "text/plain": [
       "Make                 0\n",
       "Model                0\n",
       "Year                 0\n",
       "Engine Fuel Type     0\n",
       "Engine HP            0\n",
       "Engine Cylinders     0\n",
       "Transmission Type    0\n",
       "Driven_Wheels        0\n",
       "Number of Doors      0\n",
       "Market Category      0\n",
       "Vehicle Size         0\n",
       "Vehicle Style        0\n",
       "highway MPG          0\n",
       "city mpg             0\n",
       "Popularity           0\n",
       "MSRP                 0\n",
       "dtype: int64"
      ]
     },
     "execution_count": 214,
     "metadata": {},
     "output_type": "execute_result"
    }
   ],
   "source": [
    "df.isnull().sum()"
   ]
  },
  {
   "cell_type": "code",
   "execution_count": 215,
   "id": "8c8cada6",
   "metadata": {},
   "outputs": [
    {
     "name": "stdout",
     "output_type": "stream",
     "text": [
      "<class 'pandas.core.frame.DataFrame'>\n",
      "Index: 11097 entries, 0 to 11913\n",
      "Data columns (total 16 columns):\n",
      " #   Column             Non-Null Count  Dtype  \n",
      "---  ------             --------------  -----  \n",
      " 0   Make               11097 non-null  object \n",
      " 1   Model              11097 non-null  object \n",
      " 2   Year               11097 non-null  int64  \n",
      " 3   Engine Fuel Type   11097 non-null  object \n",
      " 4   Engine HP          11097 non-null  float64\n",
      " 5   Engine Cylinders   11097 non-null  float64\n",
      " 6   Transmission Type  11097 non-null  object \n",
      " 7   Driven_Wheels      11097 non-null  object \n",
      " 8   Number of Doors    11097 non-null  float64\n",
      " 9   Market Category    11097 non-null  object \n",
      " 10  Vehicle Size       11097 non-null  object \n",
      " 11  Vehicle Style      11097 non-null  object \n",
      " 12  highway MPG        11097 non-null  int64  \n",
      " 13  city mpg           11097 non-null  int64  \n",
      " 14  Popularity         11097 non-null  int64  \n",
      " 15  MSRP               11097 non-null  int64  \n",
      "dtypes: float64(3), int64(5), object(8)\n",
      "memory usage: 1.4+ MB\n"
     ]
    }
   ],
   "source": [
    "df.info()"
   ]
  },
  {
   "cell_type": "code",
   "execution_count": 216,
   "id": "0a227e40",
   "metadata": {},
   "outputs": [],
   "source": [
    "cat_values = ['Make','Model','Engine Fuel Type','Transmission Type','Driven_Wheels','Market Category','Vehicle Size','Vehicle Style']"
   ]
  },
  {
   "cell_type": "code",
   "execution_count": 217,
   "id": "39dbf88e",
   "metadata": {},
   "outputs": [
    {
     "name": "stdout",
     "output_type": "stream",
     "text": [
      "Make\n",
      "Chevrolet        1075\n",
      "Ford              812\n",
      "Toyota            716\n",
      "Volkswagen        564\n",
      "Nissan            541\n",
      "Dodge             529\n",
      "GMC               482\n",
      "Honda             431\n",
      "Cadillac          396\n",
      "Mazda             392\n",
      "Mercedes-Benz     340\n",
      "Suzuki            339\n",
      "Infiniti          328\n",
      "BMW               324\n",
      "Audi              321\n",
      "Volvo             266\n",
      "Hyundai           259\n",
      "Acura             246\n",
      "Subaru            239\n",
      "Kia               224\n",
      "Mitsubishi        205\n",
      "Lexus             202\n",
      "Buick             190\n",
      "Chrysler          187\n",
      "Pontiac           181\n",
      "Lincoln           152\n",
      "Land Rover        139\n",
      "Porsche           136\n",
      "Oldsmobile        132\n",
      "Saab              109\n",
      "Aston Martin       91\n",
      "Bentley            74\n",
      "Plymouth           71\n",
      "Ferrari            68\n",
      "Scion              60\n",
      "FIAT               59\n",
      "Maserati           55\n",
      "Lamborghini        52\n",
      "Rolls-Royce        31\n",
      "Lotus              28\n",
      "HUMMER             17\n",
      "Maybach            16\n",
      "Alfa Romeo          5\n",
      "McLaren             5\n",
      "Genesis             3\n",
      "Bugatti             3\n",
      "Spyker              2\n",
      "Name: count, dtype: int64\n",
      " \n",
      " \n",
      "Model\n",
      "Silverado 1500    156\n",
      "Tundra            129\n",
      "F-150             126\n",
      "Sierra 1500        90\n",
      "Frontier           76\n",
      "                 ... \n",
      "650S Coupe          1\n",
      "570S                1\n",
      "XC                  1\n",
      "1 Series M          1\n",
      "Zephyr              1\n",
      "Name: count, Length: 904, dtype: int64\n",
      " \n",
      " \n",
      "Engine Fuel Type\n",
      "regular unleaded                                6641\n",
      "premium unleaded (required)                     1938\n",
      "premium unleaded (recommended)                  1388\n",
      "flex-fuel (unleaded/E85)                         887\n",
      "diesel                                           149\n",
      "flex-fuel (premium unleaded required/E85)         53\n",
      "flex-fuel (premium unleaded recommended/E85)      26\n",
      "electric                                          13\n",
      "natural gas                                        2\n",
      "Name: count, dtype: int64\n",
      " \n",
      " \n",
      "Transmission Type\n",
      "AUTOMATIC           7897\n",
      "MANUAL              2621\n",
      "AUTOMATED_MANUAL     552\n",
      "DIRECT_DRIVE          15\n",
      "UNKNOWN               12\n",
      "Name: count, dtype: int64\n",
      " \n",
      " \n",
      "Driven_Wheels\n",
      "front wheel drive    4299\n",
      "rear wheel drive     3182\n",
      "all wheel drive      2291\n",
      "four wheel drive     1325\n",
      "Name: count, dtype: int64\n",
      " \n",
      " \n",
      "Market Category\n",
      "Crossover                                          4430\n",
      "Flex Fuel                                           855\n",
      "Luxury                                              815\n",
      "Luxury,Performance                                  659\n",
      "Hatchback                                           547\n",
      "                                                   ... \n",
      "Crossover,Exotic,Luxury,High-Performance              1\n",
      "Crossover,Exotic,Luxury,Performance                   1\n",
      "Performance,Hybrid                                    1\n",
      "Exotic,Luxury,High-Performance,Hybrid                 1\n",
      "Flex Fuel,Factory Tuner,Luxury,High-Performance       1\n",
      "Name: count, Length: 70, dtype: int64\n",
      " \n",
      " \n",
      "Vehicle Size\n",
      "Compact    4339\n",
      "Midsize    4104\n",
      "Large      2654\n",
      "Name: count, dtype: int64\n",
      " \n",
      " \n",
      "Vehicle Style\n",
      "Sedan                  2808\n",
      "4dr SUV                2426\n",
      "Coupe                  1154\n",
      "Convertible             741\n",
      "Crew Cab Pickup         655\n",
      "4dr Hatchback           639\n",
      "Extended Cab Pickup     597\n",
      "Wagon                   557\n",
      "2dr Hatchback           409\n",
      "Passenger Minivan       384\n",
      "Regular Cab Pickup      345\n",
      "Passenger Van           121\n",
      "2dr SUV                  91\n",
      "Cargo Van                84\n",
      "Cargo Minivan            58\n",
      "Convertible SUV          28\n",
      "Name: count, dtype: int64\n",
      " \n",
      " \n"
     ]
    }
   ],
   "source": [
    "for i in cat_values:\n",
    "    print(df[i].value_counts())\n",
    "    print(\" \")\n",
    "    print(\" \")"
   ]
  },
  {
   "cell_type": "markdown",
   "id": "7383a13d",
   "metadata": {},
   "source": [
    "IN the transmission type column drop the UNKNOWN values "
   ]
  },
  {
   "cell_type": "code",
   "execution_count": 218,
   "id": "00ab25f8",
   "metadata": {},
   "outputs": [],
   "source": [
    "df = df[df['Transmission Type'] != 'UNKNOWN']"
   ]
  },
  {
   "cell_type": "code",
   "execution_count": 219,
   "id": "7a55dc03",
   "metadata": {},
   "outputs": [
    {
     "data": {
      "text/plain": [
       "Transmission Type\n",
       "AUTOMATIC           7897\n",
       "MANUAL              2621\n",
       "AUTOMATED_MANUAL     552\n",
       "DIRECT_DRIVE          15\n",
       "Name: count, dtype: int64"
      ]
     },
     "execution_count": 219,
     "metadata": {},
     "output_type": "execute_result"
    }
   ],
   "source": [
    "df['Transmission Type'].value_counts()\n"
   ]
  }
 ],
 "metadata": {
  "kernelspec": {
   "display_name": "Python 3",
   "language": "python",
   "name": "python3"
  },
  "language_info": {
   "codemirror_mode": {
    "name": "ipython",
    "version": 3
   },
   "file_extension": ".py",
   "mimetype": "text/x-python",
   "name": "python",
   "nbconvert_exporter": "python",
   "pygments_lexer": "ipython3",
   "version": "3.13.2"
  }
 },
 "nbformat": 4,
 "nbformat_minor": 5
}
