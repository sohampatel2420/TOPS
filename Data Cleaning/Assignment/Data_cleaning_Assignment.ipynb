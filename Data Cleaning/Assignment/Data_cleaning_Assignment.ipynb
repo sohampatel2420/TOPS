{
 "cells": [
  {
   "cell_type": "markdown",
   "id": "84d7336f",
   "metadata": {},
   "source": [
    "Theoretical Assignment:"
   ]
  },
  {
   "cell_type": "markdown",
   "id": "c32295ef",
   "metadata": {},
   "source": [
    "Q.1"
   ]
  },
  {
   "cell_type": "markdown",
   "id": "de0d2cb1",
   "metadata": {},
   "source": [
    "Essay: Importance of Data Cleaning in Data Science\n",
    "Introduction\n",
    "Data cleaning, also known as data cleansing or data preprocessing, is a critical step in the data science workflow. It involves detecting and correcting (or removing) corrupt, inaccurate, incomplete, or irrelevant parts of the data. Clean data leads to better model performance, accurate insights, and trustworthy results.\n",
    "\n",
    "Why Data Cleaning Is Important\n",
    "\n",
    "Improves Data Quality: Raw data often contains missing values, outliers, or errors. Cleaning ensures the data is consistent and accurate.\n",
    "\n",
    "Enhances Model Performance: Machine learning algorithms rely on high-quality data. Dirty data can reduce model accuracy or introduce bias.\n",
    "\n",
    "Reduces Noise and Redundancy: Cleaning eliminates unnecessary variables or duplicates, helping models focus on meaningful features.\n",
    "\n",
    "Prevents Misleading Insights: Clean data ensures correct conclusions, reducing the risk of making decisions based on flawed analysis.\n",
    "\n",
    "Saves Time in the Long Run: Investing time in data cleaning early prevents downstream issues during analysis and modeling.\n",
    "\n",
    "Common Data Cleaning Tasks\n",
    "\n",
    "Handling missing values (e.g., imputation, deletion)\n",
    "\n",
    "Removing duplicates\n",
    "\n",
    "Correcting inconsistent formats\n",
    "\n",
    "Filtering out outliers\n",
    "\n",
    "Normalizing or standardizing data\n",
    "\n",
    "Conclusion\n",
    "Data cleaning is often seen as tedious, but it is one of the most essential tasks in data science. Without it, even the most advanced algorithms or sophisticated models will not yield reliable results. Clean data is the foundation of good data science."
   ]
  },
  {
   "cell_type": "markdown",
   "id": "6dc75404",
   "metadata": {},
   "source": [
    "Q.2"
   ]
  },
  {
   "cell_type": "markdown",
   "id": "ca593345",
   "metadata": {},
   "source": [
    "Presentation: Data Visualization Techniques\n",
    "Slide 1: Title Slide\n",
    "\n",
    "Title: Data Visualization Techniques\n",
    "\n",
    "Subtitle: Turning Data Into Insight\n",
    "\n",
    "Presenter’s Name & Date\n",
    "\n",
    "Slide 2: Introduction\n",
    "\n",
    "Definition of Data Visualization\n",
    "\n",
    "Importance: Understand patterns, trends, and outliers\n",
    "\n",
    "Slide 3: Types of Data Visualization\n",
    "\n",
    "Categorical: Bar charts, pie charts\n",
    "\n",
    "Quantitative: Histograms, line graphs\n",
    "\n",
    "Relational: Scatter plots, bubble charts\n",
    "\n",
    "Geographical: Maps, choropleths\n",
    "\n",
    "Temporal: Time series plots\n",
    "\n",
    "Slide 4: Tools for Data Visualization\n",
    "\n",
    "Python Libraries: Matplotlib, Seaborn, Plotly\n",
    "\n",
    "BI Tools: Tableau, Power BI\n",
    "\n",
    "Web-Based: D3.js, Google Charts\n",
    "\n",
    "Slide 5: Best Practices\n",
    "\n",
    "Use the right chart for the data\n",
    "\n",
    "Avoid clutter; keep it simple\n",
    "\n",
    "Label axes and legends clearly\n",
    "\n",
    "Use color meaningfully (not decoratively)\n",
    "\n",
    "Slide 6: Advanced Techniques\n",
    "\n",
    "Heatmaps for correlation\n",
    "\n",
    "Interactive dashboards\n",
    "\n",
    "Animated plots (e.g., with Plotly or Flourish)\n",
    "\n",
    "Slide 7: Real-World Examples\n",
    "\n",
    "COVID-19 dashboards\n",
    "\n",
    "Stock market trends\n",
    "\n",
    "Customer segmentation visuals\n",
    "\n",
    "Slide 8: Conclusion\n",
    "\n",
    "Effective visualizations = Better decisions\n",
    "\n",
    "A picture is worth a thousand data points\n",
    "\n",
    "Let me know if you want this in PowerPoint or PDF format, or need visuals included!"
   ]
  },
  {
   "cell_type": "markdown",
   "id": "98fb4714",
   "metadata": {},
   "source": [
    "Prectical Assignment:"
   ]
  },
  {
   "cell_type": "markdown",
   "id": "0a9aba96",
   "metadata": {},
   "source": [
    "Q.1"
   ]
  },
  {
   "cell_type": "code",
   "execution_count": 142,
   "id": "702a04a2",
   "metadata": {},
   "outputs": [],
   "source": [
    "import pandas as pd\n",
    "import numpy as np"
   ]
  },
  {
   "cell_type": "code",
   "execution_count": 143,
   "id": "fa2b2516",
   "metadata": {},
   "outputs": [],
   "source": [
    "df = pd.read_csv('data.csv')"
   ]
  },
  {
   "cell_type": "code",
   "execution_count": 144,
   "id": "85ee10b8",
   "metadata": {},
   "outputs": [
    {
     "data": {
      "text/html": [
       "<div>\n",
       "<style scoped>\n",
       "    .dataframe tbody tr th:only-of-type {\n",
       "        vertical-align: middle;\n",
       "    }\n",
       "\n",
       "    .dataframe tbody tr th {\n",
       "        vertical-align: top;\n",
       "    }\n",
       "\n",
       "    .dataframe thead th {\n",
       "        text-align: right;\n",
       "    }\n",
       "</style>\n",
       "<table border=\"1\" class=\"dataframe\">\n",
       "  <thead>\n",
       "    <tr style=\"text-align: right;\">\n",
       "      <th></th>\n",
       "      <th>Make</th>\n",
       "      <th>Model</th>\n",
       "      <th>Year</th>\n",
       "      <th>Engine Fuel Type</th>\n",
       "      <th>Engine HP</th>\n",
       "      <th>Engine Cylinders</th>\n",
       "      <th>Transmission Type</th>\n",
       "      <th>Driven_Wheels</th>\n",
       "      <th>Number of Doors</th>\n",
       "      <th>Market Category</th>\n",
       "      <th>Vehicle Size</th>\n",
       "      <th>Vehicle Style</th>\n",
       "      <th>highway MPG</th>\n",
       "      <th>city mpg</th>\n",
       "      <th>Popularity</th>\n",
       "      <th>MSRP</th>\n",
       "    </tr>\n",
       "  </thead>\n",
       "  <tbody>\n",
       "    <tr>\n",
       "      <th>0</th>\n",
       "      <td>BMW</td>\n",
       "      <td>1 Series M</td>\n",
       "      <td>2011</td>\n",
       "      <td>premium unleaded (required)</td>\n",
       "      <td>335.0</td>\n",
       "      <td>6.0</td>\n",
       "      <td>MANUAL</td>\n",
       "      <td>rear wheel drive</td>\n",
       "      <td>2.0</td>\n",
       "      <td>Factory Tuner,Luxury,High-Performance</td>\n",
       "      <td>Compact</td>\n",
       "      <td>Coupe</td>\n",
       "      <td>26</td>\n",
       "      <td>19</td>\n",
       "      <td>3916</td>\n",
       "      <td>46135</td>\n",
       "    </tr>\n",
       "    <tr>\n",
       "      <th>1</th>\n",
       "      <td>BMW</td>\n",
       "      <td>1 Series</td>\n",
       "      <td>2011</td>\n",
       "      <td>premium unleaded (required)</td>\n",
       "      <td>300.0</td>\n",
       "      <td>6.0</td>\n",
       "      <td>MANUAL</td>\n",
       "      <td>rear wheel drive</td>\n",
       "      <td>2.0</td>\n",
       "      <td>Luxury,Performance</td>\n",
       "      <td>Compact</td>\n",
       "      <td>Convertible</td>\n",
       "      <td>28</td>\n",
       "      <td>19</td>\n",
       "      <td>3916</td>\n",
       "      <td>40650</td>\n",
       "    </tr>\n",
       "    <tr>\n",
       "      <th>2</th>\n",
       "      <td>BMW</td>\n",
       "      <td>1 Series</td>\n",
       "      <td>2011</td>\n",
       "      <td>premium unleaded (required)</td>\n",
       "      <td>300.0</td>\n",
       "      <td>6.0</td>\n",
       "      <td>MANUAL</td>\n",
       "      <td>rear wheel drive</td>\n",
       "      <td>2.0</td>\n",
       "      <td>Luxury,High-Performance</td>\n",
       "      <td>Compact</td>\n",
       "      <td>Coupe</td>\n",
       "      <td>28</td>\n",
       "      <td>20</td>\n",
       "      <td>3916</td>\n",
       "      <td>36350</td>\n",
       "    </tr>\n",
       "    <tr>\n",
       "      <th>3</th>\n",
       "      <td>BMW</td>\n",
       "      <td>1 Series</td>\n",
       "      <td>2011</td>\n",
       "      <td>premium unleaded (required)</td>\n",
       "      <td>230.0</td>\n",
       "      <td>6.0</td>\n",
       "      <td>MANUAL</td>\n",
       "      <td>rear wheel drive</td>\n",
       "      <td>2.0</td>\n",
       "      <td>Luxury,Performance</td>\n",
       "      <td>Compact</td>\n",
       "      <td>Coupe</td>\n",
       "      <td>28</td>\n",
       "      <td>18</td>\n",
       "      <td>3916</td>\n",
       "      <td>29450</td>\n",
       "    </tr>\n",
       "    <tr>\n",
       "      <th>4</th>\n",
       "      <td>BMW</td>\n",
       "      <td>1 Series</td>\n",
       "      <td>2011</td>\n",
       "      <td>premium unleaded (required)</td>\n",
       "      <td>230.0</td>\n",
       "      <td>6.0</td>\n",
       "      <td>MANUAL</td>\n",
       "      <td>rear wheel drive</td>\n",
       "      <td>2.0</td>\n",
       "      <td>Luxury</td>\n",
       "      <td>Compact</td>\n",
       "      <td>Convertible</td>\n",
       "      <td>28</td>\n",
       "      <td>18</td>\n",
       "      <td>3916</td>\n",
       "      <td>34500</td>\n",
       "    </tr>\n",
       "  </tbody>\n",
       "</table>\n",
       "</div>"
      ],
      "text/plain": [
       "  Make       Model  Year             Engine Fuel Type  Engine HP  \\\n",
       "0  BMW  1 Series M  2011  premium unleaded (required)      335.0   \n",
       "1  BMW    1 Series  2011  premium unleaded (required)      300.0   \n",
       "2  BMW    1 Series  2011  premium unleaded (required)      300.0   \n",
       "3  BMW    1 Series  2011  premium unleaded (required)      230.0   \n",
       "4  BMW    1 Series  2011  premium unleaded (required)      230.0   \n",
       "\n",
       "   Engine Cylinders Transmission Type     Driven_Wheels  Number of Doors  \\\n",
       "0               6.0            MANUAL  rear wheel drive              2.0   \n",
       "1               6.0            MANUAL  rear wheel drive              2.0   \n",
       "2               6.0            MANUAL  rear wheel drive              2.0   \n",
       "3               6.0            MANUAL  rear wheel drive              2.0   \n",
       "4               6.0            MANUAL  rear wheel drive              2.0   \n",
       "\n",
       "                         Market Category Vehicle Size Vehicle Style  \\\n",
       "0  Factory Tuner,Luxury,High-Performance      Compact         Coupe   \n",
       "1                     Luxury,Performance      Compact   Convertible   \n",
       "2                Luxury,High-Performance      Compact         Coupe   \n",
       "3                     Luxury,Performance      Compact         Coupe   \n",
       "4                                 Luxury      Compact   Convertible   \n",
       "\n",
       "   highway MPG  city mpg  Popularity   MSRP  \n",
       "0           26        19        3916  46135  \n",
       "1           28        19        3916  40650  \n",
       "2           28        20        3916  36350  \n",
       "3           28        18        3916  29450  \n",
       "4           28        18        3916  34500  "
      ]
     },
     "execution_count": 144,
     "metadata": {},
     "output_type": "execute_result"
    }
   ],
   "source": [
    "df.head()"
   ]
  },
  {
   "cell_type": "code",
   "execution_count": 145,
   "id": "b8498495",
   "metadata": {},
   "outputs": [
    {
     "data": {
      "text/plain": [
       "(11914, 16)"
      ]
     },
     "execution_count": 145,
     "metadata": {},
     "output_type": "execute_result"
    }
   ],
   "source": [
    "df.shape"
   ]
  },
  {
   "cell_type": "code",
   "execution_count": 146,
   "id": "a04ddf0e",
   "metadata": {},
   "outputs": [
    {
     "name": "stdout",
     "output_type": "stream",
     "text": [
      "<class 'pandas.core.frame.DataFrame'>\n",
      "RangeIndex: 11914 entries, 0 to 11913\n",
      "Data columns (total 16 columns):\n",
      " #   Column             Non-Null Count  Dtype  \n",
      "---  ------             --------------  -----  \n",
      " 0   Make               11914 non-null  object \n",
      " 1   Model              11914 non-null  object \n",
      " 2   Year               11914 non-null  int64  \n",
      " 3   Engine Fuel Type   11911 non-null  object \n",
      " 4   Engine HP          11845 non-null  float64\n",
      " 5   Engine Cylinders   11884 non-null  float64\n",
      " 6   Transmission Type  11914 non-null  object \n",
      " 7   Driven_Wheels      11914 non-null  object \n",
      " 8   Number of Doors    11908 non-null  float64\n",
      " 9   Market Category    8172 non-null   object \n",
      " 10  Vehicle Size       11914 non-null  object \n",
      " 11  Vehicle Style      11914 non-null  object \n",
      " 12  highway MPG        11914 non-null  int64  \n",
      " 13  city mpg           11914 non-null  int64  \n",
      " 14  Popularity         11914 non-null  int64  \n",
      " 15  MSRP               11914 non-null  int64  \n",
      "dtypes: float64(3), int64(5), object(8)\n",
      "memory usage: 1.5+ MB\n"
     ]
    }
   ],
   "source": [
    "df.info()"
   ]
  },
  {
   "cell_type": "code",
   "execution_count": 147,
   "id": "49f3ac15",
   "metadata": {},
   "outputs": [
    {
     "data": {
      "text/plain": [
       "Make                    0\n",
       "Model                   0\n",
       "Year                    0\n",
       "Engine Fuel Type        3\n",
       "Engine HP              69\n",
       "Engine Cylinders       30\n",
       "Transmission Type       0\n",
       "Driven_Wheels           0\n",
       "Number of Doors         6\n",
       "Market Category      3742\n",
       "Vehicle Size            0\n",
       "Vehicle Style           0\n",
       "highway MPG             0\n",
       "city mpg                0\n",
       "Popularity              0\n",
       "MSRP                    0\n",
       "dtype: int64"
      ]
     },
     "execution_count": 147,
     "metadata": {},
     "output_type": "execute_result"
    }
   ],
   "source": [
    "df.isnull().sum()"
   ]
  },
  {
   "cell_type": "code",
   "execution_count": 148,
   "id": "81247d7e",
   "metadata": {},
   "outputs": [
    {
     "name": "stderr",
     "output_type": "stream",
     "text": [
      "C:\\Users\\soham\\AppData\\Local\\Temp\\ipykernel_10668\\17474004.py:1: FutureWarning: A value is trying to be set on a copy of a DataFrame or Series through chained assignment using an inplace method.\n",
      "The behavior will change in pandas 3.0. This inplace method will never work because the intermediate object on which we are setting values always behaves as a copy.\n",
      "\n",
      "For example, when doing 'df[col].method(value, inplace=True)', try using 'df.method({col: value}, inplace=True)' or df[col] = df[col].method(value) instead, to perform the operation inplace on the original object.\n",
      "\n",
      "\n",
      "  df['Engine Fuel Type'].fillna(df['Engine Fuel Type'].mode()[0], inplace=True)\n",
      "C:\\Users\\soham\\AppData\\Local\\Temp\\ipykernel_10668\\17474004.py:2: FutureWarning: A value is trying to be set on a copy of a DataFrame or Series through chained assignment using an inplace method.\n",
      "The behavior will change in pandas 3.0. This inplace method will never work because the intermediate object on which we are setting values always behaves as a copy.\n",
      "\n",
      "For example, when doing 'df[col].method(value, inplace=True)', try using 'df.method({col: value}, inplace=True)' or df[col] = df[col].method(value) instead, to perform the operation inplace on the original object.\n",
      "\n",
      "\n",
      "  df['Engine HP'].fillna(df['Engine HP'].mean(), inplace=True)\n",
      "C:\\Users\\soham\\AppData\\Local\\Temp\\ipykernel_10668\\17474004.py:3: FutureWarning: A value is trying to be set on a copy of a DataFrame or Series through chained assignment using an inplace method.\n",
      "The behavior will change in pandas 3.0. This inplace method will never work because the intermediate object on which we are setting values always behaves as a copy.\n",
      "\n",
      "For example, when doing 'df[col].method(value, inplace=True)', try using 'df.method({col: value}, inplace=True)' or df[col] = df[col].method(value) instead, to perform the operation inplace on the original object.\n",
      "\n",
      "\n",
      "  df['Market Category'].fillna(df['Market Category'].mode(), inplace=True)\n",
      "C:\\Users\\soham\\AppData\\Local\\Temp\\ipykernel_10668\\17474004.py:4: FutureWarning: A value is trying to be set on a copy of a DataFrame or Series through chained assignment using an inplace method.\n",
      "The behavior will change in pandas 3.0. This inplace method will never work because the intermediate object on which we are setting values always behaves as a copy.\n",
      "\n",
      "For example, when doing 'df[col].method(value, inplace=True)', try using 'df.method({col: value}, inplace=True)' or df[col] = df[col].method(value) instead, to perform the operation inplace on the original object.\n",
      "\n",
      "\n",
      "  df['Engine Cylinders'].fillna(df['Engine Cylinders'].mean(), inplace=True)\n"
     ]
    }
   ],
   "source": [
    "df['Engine Fuel Type'].fillna(df['Engine Fuel Type'].mode()[0], inplace=True)\n",
    "df['Engine HP'].fillna(df['Engine HP'].mean(), inplace=True)\n",
    "df['Market Category'].fillna(df['Market Category'].mode(), inplace=True)\n",
    "df['Engine Cylinders'].fillna(df['Engine Cylinders'].mean(), inplace=True)"
   ]
  },
  {
   "cell_type": "code",
   "execution_count": 149,
   "id": "82d6c408",
   "metadata": {},
   "outputs": [
    {
     "data": {
      "text/plain": [
       "np.int64(715)"
      ]
     },
     "execution_count": 149,
     "metadata": {},
     "output_type": "execute_result"
    }
   ],
   "source": [
    "df.duplicated().sum()"
   ]
  },
  {
   "cell_type": "code",
   "execution_count": 150,
   "id": "e9ddf55c",
   "metadata": {},
   "outputs": [],
   "source": [
    "df.drop_duplicates(inplace=True)"
   ]
  },
  {
   "cell_type": "code",
   "execution_count": 151,
   "id": "6fbb3e10",
   "metadata": {},
   "outputs": [],
   "source": [
    "df = pd.get_dummies(df, columns=['Make', 'Vehicle Style'], drop_first=True)"
   ]
  },
  {
   "cell_type": "code",
   "execution_count": 152,
   "id": "61162939",
   "metadata": {},
   "outputs": [],
   "source": [
    "from sklearn.preprocessing import StandardScaler\n",
    "\n",
    "scaler = StandardScaler()\n",
    "\n",
    "df[['MSRP', 'Engine HP']] = scaler.fit_transform(df[['MSRP', 'Engine HP']])"
   ]
  },
  {
   "cell_type": "code",
   "execution_count": 153,
   "id": "1859b416",
   "metadata": {},
   "outputs": [
    {
     "data": {
      "text/plain": [
       "Model                               0\n",
       "Year                                0\n",
       "Engine Fuel Type                    0\n",
       "Engine HP                           0\n",
       "Engine Cylinders                    0\n",
       "                                   ..\n",
       "Vehicle Style_Passenger Minivan     0\n",
       "Vehicle Style_Passenger Van         0\n",
       "Vehicle Style_Regular Cab Pickup    0\n",
       "Vehicle Style_Sedan                 0\n",
       "Vehicle Style_Wagon                 0\n",
       "Length: 76, dtype: int64"
      ]
     },
     "execution_count": 153,
     "metadata": {},
     "output_type": "execute_result"
    }
   ],
   "source": [
    "df.isnull().sum()"
   ]
  }
 ],
 "metadata": {
  "kernelspec": {
   "display_name": "Python 3",
   "language": "python",
   "name": "python3"
  },
  "language_info": {
   "codemirror_mode": {
    "name": "ipython",
    "version": 3
   },
   "file_extension": ".py",
   "mimetype": "text/x-python",
   "name": "python",
   "nbconvert_exporter": "python",
   "pygments_lexer": "ipython3",
   "version": "3.13.2"
  }
 },
 "nbformat": 4,
 "nbformat_minor": 5
}
